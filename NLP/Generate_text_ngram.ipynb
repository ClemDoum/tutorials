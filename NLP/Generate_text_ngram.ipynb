{
 "cells": [
  {
   "cell_type": "code",
   "execution_count": 5,
   "metadata": {
    "collapsed": false
   },
   "outputs": [
    {
     "name": "stdout",
     "output_type": "stream",
     "text": [
      "the subject ! either , custard , but thought was holding her as if not\n",
      "\n",
      "come to climb up on shrinking away altogether , O Mouse , if I’ve made\n",
      "\n",
      "her head through the key was nothing more happened lately , roast turkey , ‘If\n",
      "\n",
      "you my going on all over afterwards , sir -- yes , or later .\n",
      "\n",
      "Would the fall NEVER come out what Latitude or conversations in that if it fitted\n",
      "\n"
     ]
    }
   ],
   "source": [
    "import nltk\n",
    "import random\n",
    "from nltk.util import ngrams\n",
    "\n",
    "text = None\n",
    "with open('text.txt', 'r') as f: # first two chapters of Alice in the Wonderland\n",
    "    text = f.read()\n",
    "ng = ngrams(nltk.word_tokenize(text),2) # we use bi-grams\n",
    "fd = nltk.ConditionalFreqDist(ng)\n",
    "\n",
    "word = \"the\" # seed\n",
    "for _ in range(5):\n",
    "    output = [] # output list of words\n",
    "    for i in range(15):\n",
    "        output.append(word)\n",
    "        word = random.choice(list(fd[word].keys()))\n",
    "    print(\" \".join(output))\n",
    "    print()"
   ]
  },
  {
   "cell_type": "code",
   "execution_count": 21,
   "metadata": {
    "collapsed": false
   },
   "outputs": [
    {
     "name": "stdout",
     "output_type": "stream",
     "text": [
      "the pool as hard as she could , and when suddenly down at all sorts\n",
      "\n",
      "of them -- oh ! And so out-of-the-way things to the garden at all sorts\n",
      "\n",
      "of a mouse -- but at any further : she said these words ‘DRINK ME’\n",
      "\n",
      "were all wrong , she could , I think me for it was not ,\n",
      "\n",
      "I wonder what I wonder how many out-of-the-way things are you , but , she\n",
      "\n"
     ]
    }
   ],
   "source": [
    "word = \"the\" # seed\n",
    "for _ in range(5):\n",
    "    output = [] # output list of words\n",
    "    for i in range(15):\n",
    "        output.append(word)\n",
    "        word = random.choice(list(fd[word].most_common(5)))[0] # choose from 5 most common\n",
    "    print(\" \".join(output))\n",
    "    print()"
   ]
  },
  {
   "cell_type": "code",
   "execution_count": 67,
   "metadata": {
    "collapsed": false
   },
   "outputs": [
    {
     "name": "stdout",
     "output_type": "stream",
     "text": [
      "the Mouse , ’ thought Alice , but it , and found that she was all very soon finished off the little golden key , ’ said poor Alice had\n",
      "\n",
      "no use in the pool , ‘and in that she had never before , but it was nothing else to do , lying down on talking : but , and\n",
      "\n",
      "the top of tears , ’ thought Alice ‘without pictures or Longitude either a waistcoat-pocket , or conversations ? ’ And she began talking again . ‘You ought to herself\n",
      "\n",
      ", but it makes me the truth : did not answer , so Alice ventured to taste it , and the little golden key in the pool all round the\n",
      "\n",
      "hall , but to get into the top of the hall , which she had hurt the little door , so Alice went on just in time ? ’ As\n",
      "\n"
     ]
    }
   ],
   "source": [
    "ng3 = ngrams(nltk.word_tokenize(text),3)\n",
    "condition_ng3 = ((w1, (w2, w3)) for w1, w2, w3 in ng3)\n",
    "fd3 = nltk.ConditionalFreqDist(condition_ng3)\n",
    "\n",
    "word = \"the\" # seed\n",
    "for _ in range(5):\n",
    "    output = [] # output list of words\n",
    "    for i in range(15):\n",
    "        output.append(word)\n",
    "        # choose from 5 most common trigrams - (w1,w2,w3)\n",
    "        # w1 is key\n",
    "        # w2 just copy\n",
    "        # w3 use in the next iteration\n",
    "        w2_w3 = random.choice(list(fd3[word].most_common(5)))[0] # save ind format (w1,(w2,w3))\n",
    "        output.append(w2_w3[0])\n",
    "        word = w2_w3[1] \n",
    "    print(\" \".join(output))\n",
    "    print()"
   ]
  },
  {
   "cell_type": "code",
   "execution_count": null,
   "metadata": {
    "collapsed": true
   },
   "outputs": [],
   "source": []
  }
 ],
 "metadata": {
  "kernelspec": {
   "display_name": "Python 3",
   "language": "python",
   "name": "python3"
  },
  "language_info": {
   "codemirror_mode": {
    "name": "ipython",
    "version": 3
   },
   "file_extension": ".py",
   "mimetype": "text/x-python",
   "name": "python",
   "nbconvert_exporter": "python",
   "pygments_lexer": "ipython3",
   "version": "3.5.2"
  }
 },
 "nbformat": 4,
 "nbformat_minor": 2
}
