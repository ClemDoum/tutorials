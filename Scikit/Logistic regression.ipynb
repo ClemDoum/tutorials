{
 "cells": [
  {
   "cell_type": "code",
   "execution_count": 1,
   "metadata": {
    "collapsed": false,
    "deletable": true,
    "editable": true
   },
   "outputs": [
    {
     "data": {
      "text/plain": [
       "'3.5.2 (v3.5.2:4def2a2901a5, Jun 26 2016, 10:47:25) \\n[GCC 4.2.1 (Apple Inc. build 5666) (dot 3)]'"
      ]
     },
     "execution_count": 1,
     "metadata": {},
     "output_type": "execute_result"
    }
   ],
   "source": [
    "import sys\n",
    "sys.version"
   ]
  },
  {
   "cell_type": "code",
   "execution_count": 26,
   "metadata": {
    "collapsed": true,
    "deletable": true,
    "editable": true
   },
   "outputs": [],
   "source": [
    "from sklearn.datasets import load_digits"
   ]
  },
  {
   "cell_type": "code",
   "execution_count": 27,
   "metadata": {
    "collapsed": false,
    "deletable": true,
    "editable": true
   },
   "outputs": [
    {
     "name": "stdout",
     "output_type": "stream",
     "text": [
      "(1797, 64)\n"
     ]
    }
   ],
   "source": [
    "digits = load_digits()\n",
    "print(digits.data.shape)"
   ]
  },
  {
   "cell_type": "code",
   "execution_count": 28,
   "metadata": {
    "collapsed": false,
    "deletable": true,
    "editable": true
   },
   "outputs": [
    {
     "data": {
      "text/plain": [
       "<matplotlib.figure.Figure at 0x10744ab00>"
      ]
     },
     "metadata": {},
     "output_type": "display_data"
    },
    {
     "data": {
      "image/png": "[encoded data removed]",
      "text/plain": [
       "<matplotlib.figure.Figure at 0x10744acc0>"
      ]
     },
     "metadata": {},
     "output_type": "display_data"
    },
    {
     "name": "stdout",
     "output_type": "stream",
     "text": [
      "target: 4\n",
      "target: 4\n"
     ]
    }
   ],
   "source": [
    "import matplotlib.pyplot as plt \n",
    "index = 100\n",
    "\n",
    "plt.gray() \n",
    "plt.matshow(digits.images[index]) \n",
    "plt.show() \n",
    "print (\"target:\", digits.target[index])\n",
    "print (\"target:\", digits.target_names[digits.target[index]])\n"
   ]
  },
  {
   "cell_type": "code",
   "execution_count": 29,
   "metadata": {
    "collapsed": false,
    "deletable": true,
    "editable": true
   },
   "outputs": [],
   "source": [
    "from sklearn.model_selection import train_test_split\n",
    "X_train_orig, X_test_orig, y_train_orig, y_test_orig = train_test_split(digits.images, [0 if x%2==0 else 1 for x in digits.target], test_size=0.33, random_state=42)"
   ]
  },
  {
   "cell_type": "code",
   "execution_count": 30,
   "metadata": {
    "collapsed": false,
    "deletable": true,
    "editable": true
   },
   "outputs": [
    {
     "name": "stdout",
     "output_type": "stream",
     "text": [
      "(1203, 8, 8)\n"
     ]
    }
   ],
   "source": [
    "print (X_train_orig.shape)"
   ]
  },
  {
   "cell_type": "markdown",
   "metadata": {
    "deletable": true,
    "editable": true
   },
   "source": [
    "In this case has \"X_train_orig\" shape like (1203, 8, 8) which means that there are 1203 examples of 8x8 images. I need to apply reshape because I would like to use logistic regression:\n",
    "- $A = \\sigma(w^T X + b)$\n",
    "- error funcion $$ \\mathcal{L}(a, y) =  - y  \\log(a) - (1-y)  \\log(1-a)$$\n",
    "- cost function $$ J = \\frac{1}{m} \\sum_{i=1}^m \\mathcal{L}(a^{(i)}, y^{(i)})$$ which can be rewritten to $$J = -\\frac{1}{m}\\sum_{i=1}^{m}y^{(i)}\\log(a^{(i)})+(1-y^{(i)})\\log(1-a^{(i)})$$\n",
    "- $\\sigma$ is sigmoid function $$sigmoid( w^T x + b) = \\frac{1}{1 + e^{-(w^T x + b)}}$$\n",
    "\n",
    "Because of $w^T X$ I need  $w$ to have shape $(8*8,1)$ and therefore $X$ has to be shape $(8*8,-1)$"
   ]
  },
  {
   "cell_type": "markdown",
   "metadata": {
    "deletable": true,
    "editable": true
   },
   "source": [
    "The error funcion $ \\mathcal{L}(a, y) =  - y  \\log(a) - (1-y)  \\log(1-a)$ is chosen because when:\n",
    "- true label is 0 then $ \\mathcal{L}(a, y) = - (1-y)  \\log(1-a)$ and to minimaze this we need $(1-a)$ to be large therefore $a$ to be small (close to 0)\n",
    "- true label is 1 then $ \\mathcal{L}(a, y) = - y  \\log(a)$ and to minimaze this we need $(a)$ to be large therefore $a$ to be large (close to 1)"
   ]
  },
  {
   "cell_type": "code",
   "execution_count": 31,
   "metadata": {
    "collapsed": false,
    "deletable": true,
    "editable": true,
    "scrolled": true
   },
   "outputs": [
    {
     "name": "stdout",
     "output_type": "stream",
     "text": [
      "(64, 1203)\n",
      "(64, 594)\n",
      "(1, 1203)\n",
      "(1, 594)\n"
     ]
    }
   ],
   "source": [
    "import numpy as np\n",
    "\n",
    "X_train = X_train_orig.reshape(-1 , X_train_orig.shape[1] * X_train_orig.shape[2]).T\n",
    "X_test = X_test_orig.reshape(-1, X_test_orig.shape[1] * X_test_orig.shape[2]).T\n",
    "y_train = np.array(y_train_orig).reshape(1,-1)\n",
    "y_test = np.array(y_test_orig).reshape(1,-1)\n",
    "\n",
    "print (X_train.shape)\n",
    "print (X_test.shape)\n",
    "print (y_train.shape)\n",
    "print (y_test.shape)"
   ]
  },
  {
   "cell_type": "code",
   "execution_count": 33,
   "metadata": {
    "collapsed": false,
    "deletable": true,
    "editable": true
   },
   "outputs": [
    {
     "data": {
      "text/plain": [
       "array([[  0.,   0.,   5.,  13.,   9.,   1.,   0.,   0.],\n",
       "       [  0.,   0.,  13.,  15.,  10.,  15.,   5.,   0.],\n",
       "       [  0.,   3.,  15.,   2.,   0.,  11.,   8.,   0.],\n",
       "       [  0.,   4.,  12.,   0.,   0.,   8.,   8.,   0.],\n",
       "       [  0.,   5.,   8.,   0.,   0.,   9.,   8.,   0.],\n",
       "       [  0.,   4.,  11.,   0.,   1.,  12.,   7.,   0.],\n",
       "       [  0.,   2.,  14.,   5.,  10.,  12.,   0.,   0.],\n",
       "       [  0.,   0.,   6.,  13.,  10.,   0.,   0.,   0.]])"
      ]
     },
     "execution_count": 33,
     "metadata": {},
     "output_type": "execute_result"
    }
   ],
   "source": [
    "digits.images[0]"
   ]
  },
  {
   "cell_type": "code",
   "execution_count": 34,
   "metadata": {
    "collapsed": false,
    "deletable": true,
    "editable": true,
    "scrolled": true
   },
   "outputs": [
    {
     "data": {
      "text/plain": [
       "array([  0.,   0.,   0.,   1.,  12.,   7.,   0.,   0.,   0.,   0.,   0.,\n",
       "         9.,  16.,  16.,   1.,   0.,   0.,   1.,   7.,  15.,  16.,  14.,\n",
       "         0.,   0.,   0.,   4.,  16.,  16.,  16.,  16.,   0.,   0.,   0.,\n",
       "         0.,   0.,   3.,  16.,  16.,   0.,   0.,   0.,   0.,   0.,   2.,\n",
       "        16.,  16.,   3.,   0.,   0.,   0.,   0.,   6.,  16.,  16.,   0.,\n",
       "         0.,   0.,   0.,   0.,   3.,  15.,  13.,   0.,   0.])"
      ]
     },
     "execution_count": 34,
     "metadata": {},
     "output_type": "execute_result"
    }
   ],
   "source": [
    "X_train[:,0]"
   ]
  },
  {
   "cell_type": "code",
   "execution_count": 35,
   "metadata": {
    "collapsed": false,
    "deletable": true,
    "editable": true
   },
   "outputs": [
    {
     "data": {
      "text/plain": [
       "<matplotlib.figure.Figure at 0x10744ad68>"
      ]
     },
     "metadata": {},
     "output_type": "display_data"
    },
    {
     "data": {
      "image/png": "[encoded data removed]",
      "text/plain": [
       "<matplotlib.figure.Figure at 0x10744ae10>"
      ]
     },
     "metadata": {},
     "output_type": "display_data"
    }
   ],
   "source": [
    "plt.gray() \n",
    "plt.matshow(X_train[:,0].reshape(8,8)) \n",
    "plt.show() "
   ]
  },
  {
   "cell_type": "markdown",
   "metadata": {
    "deletable": true,
    "editable": true
   },
   "source": [
    "<img src=\"img/logistic_regression_graph.png\"/>"
   ]
  },
  {
   "cell_type": "markdown",
   "metadata": {
    "deletable": true,
    "editable": true
   },
   "source": [
    "To calculated derivative $dw$ and $db$ we need to use calsulus:\n",
    "$$ \\frac{\\partial L}{\\partial w^{(i)}} = x^{(i)} * \\frac{\\partial L}{\\partial z^{(i)}} = x^{(i)} * \\frac{\\partial L}{\\partial a^{(i)}} * \\frac{\\partial a^{(i)}}{\\partial z^{(i)}}$$\n",
    "- because of derivative of composite function\n",
    "\n",
    "$$ \\frac{\\partial L}{\\partial z^{(i)}} = \\frac{\\partial L}{\\partial a^{(i)}} * \\frac{\\partial a^{(i)}}{\\partial z^{(i)}} = (- \\frac{y^{(i)}}{a^{(i)}} + \\frac{(1-y^{(i)})}{(1-a^{(i)})}) * (a^{(i)} * (1 - a^{(i)})) = a^{(i)} - y^{(i)}$$\n"
   ]
  },
  {
   "cell_type": "markdown",
   "metadata": {
    "deletable": true,
    "editable": true
   },
   "source": [
    "We can vectorize error function and transform into:\n",
    "$$ \\frac{\\partial L}{\\partial z} = (A-Y)$$\n",
    "\n",
    "and for cost function we get:\n",
    "$$ \\frac{\\partial J}{\\partial w} = \\frac{1}{m}X(A-Y)^T$$\n",
    "$$ \\frac{\\partial J}{\\partial b} = \\frac{1}{m} \\sum_{i=1}^m (a^{(i)}-y^{(i)})$$"
   ]
  },
  {
   "cell_type": "code",
   "execution_count": 79,
   "metadata": {
    "collapsed": true,
    "deletable": true,
    "editable": true
   },
   "outputs": [],
   "source": [
    "class LogisticRegression:\n",
    "    def __init__(self, X_train, y_train, X_test, y_test):\n",
    "        self.X_train = X_train\n",
    "        self.y_train = y_train\n",
    "        self.X_test = X_test\n",
    "        self.y_test = y_test\n",
    "        self.w = np.zeros((self.X_train.shape[0], 1))\n",
    "        self.b = 0.0\n",
    "        self.m = X_train.shape[1]\n",
    "        \n",
    "    def sigmoid(self, z):\n",
    "        return 1.0 / (1 + np.exp(-z))\n",
    "\n",
    "    def sigmoid_derivate(self, z):\n",
    "        return self.sigmoid(z) * (1 - self.sigmoid(z))\n",
    "\n",
    "    def propagate(self, w, b, X, Y):\n",
    "        # math is shown above\n",
    "        A = self.sigmoid(np.dot(w.T, X) + b)\n",
    "        cost = - 1.0/self.m * np.sum(Y * np.log(A) + (1 - Y) * np.log(1 - A))\n",
    "\n",
    "        # how big mistake is in the certain part of w with respect to Cost function\n",
    "        dw = 1/self.m * np.dot(X, (A - Y).T)\n",
    "        db = 1/self.m * np.sum(A - Y)\n",
    "\n",
    "        results = {\"dw\": dw,\n",
    "                   \"db\": db,\n",
    "                   \"cost\": cost}\n",
    "\n",
    "        return results\n",
    "\n",
    "    def optimize(self, w, b, X, Y, learning_rate, num_iteration):\n",
    "        # good for logging and plotting graph\n",
    "        costs = []\n",
    "\n",
    "        for i in range(num_iteration):\n",
    "            propagation = self.propagate(w, b, X, Y)\n",
    "            costs.append(propagation[\"cost\"])\n",
    "\n",
    "            w = w - learning_rate * propagation[\"dw\"]\n",
    "            b = b - learning_rate * propagation[\"db\"]\n",
    "\n",
    "        results = {\"w\": w,\n",
    "                   \"b\": b,\n",
    "                   \"costs\": costs}\n",
    "\n",
    "        return results\n",
    "\n",
    "    def _predict(self, w, b, X, treshold = 0.5):\n",
    "        A = self.sigmoid(np.dot(w.T, X) + b)\n",
    "        return np.array([1 if x >= treshold else 0 for x in A[0]]).reshape(1,-1)    \n",
    "        \n",
    "    def train(self, learning_rate, num_iteration):\n",
    "        self.learning_rate = learning_rate\n",
    "        self.num_iteration = num_iteration\n",
    "        \n",
    "        results = self.optimize(self.w, self.b, self.X_train, self.y_train, learning_rate, num_iteration)\n",
    "        self.costs = results[\"costs\"]\n",
    "        self.w = results[\"w\"]\n",
    "        self.b = results[\"b\"]\n",
    "    \n",
    "    def test(self):\n",
    "        prediction = self._predict(self.w, self.b, self.X_test)\n",
    "        return float(100 - np.mean(np.abs(prediction - self.y_test)) * 100)\n",
    "    \n",
    "    def predict(self, example):\n",
    "        return self._predict(self.w, self.b, example)\n",
    "    \n",
    "    def show_cost_curve(self):\n",
    "        import matplotlib.pyplot as plt \n",
    "        plt.plot(self.costs)\n",
    "        plt.ylabel('cost')\n",
    "        plt.xlabel('iterations')\n",
    "        plt.title(\"Learning rate =\" + str(self.learning_rate) + \"\\nIteration =\" + str(self.num_iteration))\n",
    "        plt.show()"
   ]
  },
  {
   "cell_type": "code",
   "execution_count": 67,
   "metadata": {
    "collapsed": false,
    "deletable": true,
    "editable": true,
    "scrolled": true
   },
   "outputs": [
    {
     "name": "stdout",
     "output_type": "stream",
     "text": [
      "93.26599326599327 %\n"
     ]
    }
   ],
   "source": [
    "regression = LogisticRegression(X_train, y_train, X_test, y_test)\n",
    "regression.train(0.001, 1000)\n",
    "print (regression.test() , \"%\")"
   ]
  },
  {
   "cell_type": "code",
   "execution_count": null,
   "metadata": {
    "collapsed": false,
    "deletable": true,
    "editable": true,
    "scrolled": false
   },
   "outputs": [],
   "source": [
    "example = X_train[:,10].reshape(8*8,1)\n",
    "# show image\n",
    "plt.gray() \n",
    "plt.matshow(example.reshape(8,8)) \n",
    "plt.show() \n",
    "# give prediction\n",
    "print (\"is the number on the picture odd:\" , bool(regression.predict(example)))"
   ]
  },
  {
   "cell_type": "code",
   "execution_count": null,
   "metadata": {
    "collapsed": false
   },
   "outputs": [],
   "source": [
    "regression.show_cost_curve()"
   ]
  },
  {
   "cell_type": "markdown",
   "metadata": {},
   "source": [
    "# Other examples"
   ]
  },
  {
   "cell_type": "code",
   "execution_count": 68,
   "metadata": {
    "collapsed": true
   },
   "outputs": [],
   "source": [
    "import sklearn.datasets\n",
    "import numpy as np\n",
    "from sklearn.model_selection import train_test_split\n",
    "\n",
    "N = 300\n",
    "noisy_moons = sklearn.datasets.make_moons(n_samples=N, noise=.2)"
   ]
  },
  {
   "cell_type": "code",
   "execution_count": 69,
   "metadata": {
    "collapsed": false
   },
   "outputs": [],
   "source": [
    "X_moons_all = np.array(noisy_moons[0])\n",
    "Y_moons_all = np.array(noisy_moons[1])"
   ]
  },
  {
   "cell_type": "code",
   "execution_count": 70,
   "metadata": {
    "collapsed": false
   },
   "outputs": [
    {
     "data": {
      "text/plain": [
       "(300, 2)"
      ]
     },
     "execution_count": 70,
     "metadata": {},
     "output_type": "execute_result"
    }
   ],
   "source": [
    "X_moons_all.shape"
   ]
  },
  {
   "cell_type": "code",
   "execution_count": 71,
   "metadata": {
    "collapsed": false
   },
   "outputs": [
    {
     "data": {
      "text/plain": [
       "(300,)"
      ]
     },
     "execution_count": 71,
     "metadata": {},
     "output_type": "execute_result"
    }
   ],
   "source": [
    "Y_moons_all.shape"
   ]
  },
  {
   "cell_type": "code",
   "execution_count": 72,
   "metadata": {
    "collapsed": false
   },
   "outputs": [
    {
     "data": {
      "text/plain": [
       "201"
      ]
     },
     "execution_count": 72,
     "metadata": {},
     "output_type": "execute_result"
    }
   ],
   "source": [
    "np.prod([x for x in X_train_moons.shape[1:]])"
   ]
  },
  {
   "cell_type": "code",
   "execution_count": 73,
   "metadata": {
    "collapsed": false,
    "scrolled": true
   },
   "outputs": [
    {
     "name": "stdout",
     "output_type": "stream",
     "text": [
      "(2, 201)\n",
      "(2, 99)\n",
      "(1, 201)\n",
      "(1, 99)\n",
      "84.84848484848484 %\n"
     ]
    }
   ],
   "source": [
    "X_train_moons, X_test_moons, y_train_moons, y_test_moons = train_test_split(X_moons_all, Y_moons_all, test_size=0.33, random_state=42)\n",
    "\n",
    "X_train_moons = X_train_moons.reshape(-1 , X_train_moons.shape[1]).T\n",
    "X_test_moons = X_test_moons.reshape(-1, X_test_moons.shape[1]).T\n",
    "y_train_moons = np.array(y_train_moons).reshape(1,-1)\n",
    "y_test_moons = np.array(y_test_moons).reshape(1,-1)\n",
    "\n",
    "print (X_train_moons.shape)\n",
    "print (X_test_moons.shape)\n",
    "print (y_train_moons.shape)\n",
    "print (y_test_moons.shape)\n",
    "\n",
    "regression = LogisticRegression(X_train_moons, y_train_moons, X_test_moons, y_test_moons)\n",
    "regression.train(0.001, 1000)\n",
    "print (regression.test() , \"%\")"
   ]
  },
  {
   "cell_type": "code",
   "execution_count": 98,
   "metadata": {
    "collapsed": true
   },
   "outputs": [],
   "source": [
    "def plot_decision_boundary(model, X, y):    \n",
    "    assert(X.shape == (2, X.shape[1]))\n",
    "    assert(y.shape == (1, y.shape[1]))\n",
    "\n",
    "    import matplotlib.pyplot as plt \n",
    "    # Set min and max values and give it some padding\n",
    "    x_min, x_max = X[0, :].min() - 1, X[0, :].max() + 1\n",
    "    y_min, y_max = X[1, :].min() - 1, X[1, :].max() + 1\n",
    "    h = 0.01\n",
    "    # Generate a grid of points with distance h between them\n",
    "    xx, yy = np.meshgrid(np.arange(x_min, x_max, h), np.arange(y_min, y_max, h))\n",
    "    # Predict the function value for the whole grid\n",
    "    \n",
    "    # can hardcode reshaping because there is assert control\n",
    "    Z = np.array([model.predict(np.array(x).reshape(2,1)) for x in np.c_[xx.ravel(), yy.ravel()]])\n",
    "    Z = Z.reshape(xx.shape)\n",
    "    # Plot the contour and training examples\n",
    "    plt.contourf(xx, yy, Z, cmap=plt.cm.Spectral)\n",
    "    plt.ylabel('x2')\n",
    "    plt.xlabel('x1')\n",
    "    plt.scatter(X[0, :], X[1, :], c=y, cmap=plt.cm.Spectral)\n",
    "    plt.show()"
   ]
  },
  {
   "cell_type": "code",
   "execution_count": 99,
   "metadata": {
    "collapsed": false,
    "scrolled": false
   },
   "outputs": [
    {
     "data": {
      "image/png": "[encoded data removed]",
      "text/plain": [
       "<matplotlib.figure.Figure at 0x10881eac8>"
      ]
     },
     "metadata": {},
     "output_type": "display_data"
    }
   ],
   "source": [
    "plot_decision_boundary(model = regression, X = X_train_moons, y = y_train_moons)"
   ]
  },
  {
   "cell_type": "code",
   "execution_count": 100,
   "metadata": {
    "collapsed": false
   },
   "outputs": [
    {
     "name": "stdout",
     "output_type": "stream",
     "text": [
      "(2, 268)\n",
      "(2, 132)\n",
      "(1, 268)\n",
      "(1, 132)\n",
      "46.96969696969697 %\n"
     ]
    }
   ],
   "source": [
    "N = 400\n",
    "noisy_circles = sklearn.datasets.make_circles(n_samples=N, factor=.5, noise=.3)\n",
    "    \n",
    "X_circles_all = np.array(noisy_circles[0])\n",
    "Y_circles_all = np.array(noisy_circles[1])\n",
    "\n",
    "X_train_circles, X_test_circles, y_train_circles, y_test_circles = train_test_split(X_circles_all, Y_circles_all, test_size=0.33, random_state=42)\n",
    "\n",
    "X_train_circles = X_train_circles.reshape(-1 , X_train_circles.shape[1]).T\n",
    "X_test_circles = X_test_circles.reshape(-1, X_test_circles.shape[1]).T\n",
    "y_train_circles = np.array(y_train_circles).reshape(1,-1)\n",
    "y_test_circles = np.array(y_test_circles).reshape(1,-1)\n",
    "\n",
    "print (X_train_circles.shape)\n",
    "print (X_test_circles.shape)\n",
    "print (y_train_circles.shape)\n",
    "print (y_test_circles.shape)\n",
    "\n",
    "regression = LogisticRegression(X_train_circles, y_train_circles, X_test_circles, y_test_circles)\n",
    "regression.train(0.001, 1000)\n",
    "print (regression.test() , \"%\")"
   ]
  },
  {
   "cell_type": "code",
   "execution_count": 102,
   "metadata": {
    "collapsed": false
   },
   "outputs": [
    {
     "data": {
      "image/png": "[encoded data removed]",
      "text/plain": [
       "<matplotlib.figure.Figure at 0x1085950f0>"
      ]
     },
     "metadata": {},
     "output_type": "display_data"
    }
   ],
   "source": [
    "plot_decision_boundary(model = regression, X = X_train_circles, y = y_train_circles)"
   ]
  },
  {
   "cell_type": "code",
   "execution_count": null,
   "metadata": {
    "collapsed": true
   },
   "outputs": [],
   "source": []
  },
  {
   "cell_type": "code",
   "execution_count": null,
   "metadata": {
    "collapsed": true
   },
   "outputs": [],
   "source": []
  },
  {
   "cell_type": "markdown",
   "metadata": {
    "deletable": true,
    "editable": true
   },
   "source": [
    "# Resources\n",
    "- https://www.coursera.org/learn/neural-networks-deep-learning\n",
    "- http://ronny.rest/blog/post_2017_08_12_logistic_regression_derivative/\n",
    "- "
   ]
  },
  {
   "cell_type": "code",
   "execution_count": null,
   "metadata": {
    "collapsed": true,
    "deletable": true,
    "editable": true
   },
   "outputs": [],
   "source": []
  }
 ],
 "metadata": {
  "kernelspec": {
   "display_name": "Python 3",
   "language": "python",
   "name": "python3"
  },
  "language_info": {
   "codemirror_mode": {
    "name": "ipython",
    "version": 3
   },
   "file_extension": ".py",
   "mimetype": "text/x-python",
   "name": "python",
   "nbconvert_exporter": "python",
   "pygments_lexer": "ipython3",
   "version": "3.5.2"
  }
 },
 "nbformat": 4,
 "nbformat_minor": 2
}
