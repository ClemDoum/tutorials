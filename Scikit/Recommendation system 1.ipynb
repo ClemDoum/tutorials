{
 "cells": [
  {
   "cell_type": "code",
   "execution_count": 47,
   "metadata": {
    "collapsed": true,
    "deletable": true,
    "editable": true
   },
   "outputs": [],
   "source": [
    "from math import sqrt\n",
    "from numpy import genfromtxt\n",
    "import numpy as np\n",
    "from collections import OrderedDict\n"
   ]
  },
  {
   "cell_type": "code",
   "execution_count": 23,
   "metadata": {
    "collapsed": true
   },
   "outputs": [],
   "source": [
    "def load_data():\n",
    "    data = genfromtxt('./data/small-dataset.csv', delimiter=',',dtype=None)\n",
    "    print (data)\n",
    "    return data"
   ]
  },
  {
   "cell_type": "code",
   "execution_count": 5,
   "metadata": {
    "collapsed": false,
    "deletable": true,
    "editable": true
   },
   "outputs": [
    {
     "name": "stdout",
     "output_type": "stream",
     "text": [
      "[(b'us', 7, 6, 7, 4, 5, 4) (b'as', 6, 7, 0, 4, 3, 4)\n",
      " (b'uas', 0, 3, 3, 1, 1, 0) (b'usda', 1, 2, 2, 3, 3, 4)\n",
      " (b'ufsds', 1, 0, 1, 2, 3, 3)]\n"
     ]
    }
   ],
   "source": [
    "data = load_data()"
   ]
  },
  {
   "cell_type": "code",
   "execution_count": 24,
   "metadata": {
    "collapsed": false,
    "deletable": true,
    "editable": true,
    "scrolled": true
   },
   "outputs": [],
   "source": [
    "def get_rating_user(user):\n",
    "    return np.array([user[i] for i in range(1,len(user))])"
   ]
  },
  {
   "cell_type": "markdown",
   "metadata": {
    "deletable": true,
    "editable": true
   },
   "source": [
    "![title](./img/cosine.png)"
   ]
  },
  {
   "cell_type": "code",
   "execution_count": 7,
   "metadata": {
    "collapsed": true,
    "deletable": true,
    "editable": true
   },
   "outputs": [],
   "source": [
    "def user_sim_cosine_sim(person1, person2):\n",
    "    # computes similarity between two users based on the cosine similarity metric\n",
    "    \n",
    "    rating1 = get_rating_user(person1)\n",
    "    rating2 = get_rating_user(person2)\n",
    "    \n",
    "    return np.dot(rating2, rating1) / (sqrt(np.dot(rating1, rating1)) * sqrt(np.dot(rating2, rating2)))"
   ]
  },
  {
   "cell_type": "markdown",
   "metadata": {
    "deletable": true,
    "editable": true
   },
   "source": [
    "![title](./img/pearson.png)"
   ]
  },
  {
   "cell_type": "code",
   "execution_count": 8,
   "metadata": {
    "collapsed": true,
    "deletable": true,
    "editable": true
   },
   "outputs": [],
   "source": [
    "def user_sim_pearson_corr(person1, person2):\n",
    "    # computes similarity between two users based on the cosine similarity metric\n",
    "    \n",
    "    rating1 = get_rating_user(person1)\n",
    "    rating2 = get_rating_user(person2)\n",
    "    \n",
    "    mean1 = np.mean(rating1)\n",
    "    mean2 = np.mean(rating2)\n",
    "    \n",
    "    normalize1 = rating1 - mean1\n",
    "    normalize2 = rating2 - mean2\n",
    "    \n",
    "    return np.dot(normalize1, normalize2) / (sqrt(np.dot(normalize1, normalize1)) * sqrt(np.dot(normalize2, normalize2)))"
   ]
  },
  {
   "cell_type": "code",
   "execution_count": 9,
   "metadata": {
    "collapsed": true,
    "deletable": true,
    "editable": true
   },
   "outputs": [],
   "source": [
    "def most_similar_users(data, position_person , number_of_users, metric):\n",
    "    # returns top-K similar users for the given\n",
    "    \n",
    "    person_data = data[position_person]\n",
    "    metricsData =  {i: metric(person_data, data[i]) for i in range(0, len(data)) if i != position_person}\n",
    "    return sorted(metricsData.items(), key=lambda x: x[1], reverse=True)[:number_of_users]"
   ]
  },
  {
   "cell_type": "code",
   "execution_count": 54,
   "metadata": {
    "collapsed": true,
    "deletable": true,
    "editable": true
   },
   "outputs": [],
   "source": [
    "def user_recommendations(data, person_position, metric):\n",
    "    # generate recommendations for the given user\n",
    "    \n",
    "    results = most_similar_users(data, person_position, 3, metric)\n",
    "    measuring_person = get_rating_user(data[person_position])\n",
    "    \n",
    "    tup_ratings = []\n",
    "    \n",
    "    for user_index, user_similarity in results:\n",
    "        tup_ratings += [(item_index, other_user_rating, user_similarity, user_index) \n",
    "                        for item_index, other_user_rating in enumerate(get_rating_user(data[user_index])) \n",
    "                        if measuring_person[item_index] == 0 and other_user_rating != 0]\n",
    "    \n",
    "    tup_ratings = sorted(tup_ratings, key=lambda x: (x[1],x[3]), reverse=True)\n",
    "    return tup_ratings , set([x[0] for x in tup_ratings])"
   ]
  },
  {
   "cell_type": "code",
   "execution_count": 56,
   "metadata": {
    "collapsed": false,
    "deletable": true,
    "editable": true,
    "scrolled": true
   },
   "outputs": [
    {
     "data": {
      "text/plain": [
       "([(0, 7, 0.77662176202868816, 0),\n",
       "  (0, 6, 0.55777335102271697, 1),\n",
       "  (5, 4, 0.61379490552342619, 3),\n",
       "  (5, 4, 0.55777335102271697, 1),\n",
       "  (5, 4, 0.77662176202868816, 0),\n",
       "  (0, 1, 0.61379490552342619, 3)],\n",
       " {0, 5})"
      ]
     },
     "execution_count": 56,
     "metadata": {},
     "output_type": "execute_result"
    }
   ],
   "source": [
    "user_recommendations(data, 2, user_sim_cosine_sim)"
   ]
  },
  {
   "cell_type": "code",
   "execution_count": 57,
   "metadata": {
    "collapsed": false,
    "scrolled": true
   },
   "outputs": [
    {
     "data": {
      "text/plain": [
       "([], set())"
      ]
     },
     "execution_count": 57,
     "metadata": {},
     "output_type": "execute_result"
    }
   ],
   "source": [
    "user_recommendations(data, 3, user_sim_cosine_sim)"
   ]
  },
  {
   "cell_type": "code",
   "execution_count": 58,
   "metadata": {
    "collapsed": false
   },
   "outputs": [
    {
     "data": {
      "text/plain": [
       "([(1, 7, 0.63646884652164448, 1),\n",
       "  (1, 6, 0.72372533430255415, 0),\n",
       "  (1, 2, 0.9338592095470355, 3)],\n",
       " {1})"
      ]
     },
     "execution_count": 58,
     "metadata": {},
     "output_type": "execute_result"
    }
   ],
   "source": [
    "user_recommendations(data, 4, user_sim_cosine_sim)"
   ]
  },
  {
   "cell_type": "code",
   "execution_count": 18,
   "metadata": {
    "collapsed": true
   },
   "outputs": [],
   "source": [
    "from sklearn.metrics.pairwise import cosine_similarity"
   ]
  },
  {
   "cell_type": "code",
   "execution_count": 22,
   "metadata": {
    "collapsed": false
   },
   "outputs": [
    {
     "data": {
      "text/plain": [
       "array([[ 1.        ,  0.84444105,  0.77662176,  0.83861511,  0.72372533],\n",
       "       [ 0.84444105,  1.        ,  0.55777335,  0.77438219,  0.63646885],\n",
       "       [ 0.77662176,  0.55777335,  1.        ,  0.61379491,  0.36514837],\n",
       "       [ 0.83861511,  0.77438219,  0.61379491,  1.        ,  0.93385921],\n",
       "       [ 0.72372533,  0.63646885,  0.36514837,  0.93385921,  1.        ]])"
      ]
     },
     "execution_count": 22,
     "metadata": {},
     "output_type": "execute_result"
    }
   ],
   "source": [
    "cosine_similarity([getRatingForUser(x) for x in data])"
   ]
  },
  {
   "cell_type": "code",
   "execution_count": null,
   "metadata": {
    "collapsed": true,
    "deletable": true,
    "editable": true
   },
   "outputs": [],
   "source": []
  }
 ],
 "metadata": {
  "kernelspec": {
   "display_name": "Python 3",
   "language": "python",
   "name": "python3"
  },
  "language_info": {
   "codemirror_mode": {
    "name": "ipython",
    "version": 3
   },
   "file_extension": ".py",
   "mimetype": "text/x-python",
   "name": "python",
   "nbconvert_exporter": "python",
   "pygments_lexer": "ipython3",
   "version": "3.5.2"
  }
 },
 "nbformat": 4,
 "nbformat_minor": 2
}
