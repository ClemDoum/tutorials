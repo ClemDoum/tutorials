{
 "cells": [
  {
   "cell_type": "code",
   "execution_count": 1,
   "metadata": {},
   "outputs": [],
   "source": [
    "import numpy as np"
   ]
  },
  {
   "cell_type": "markdown",
   "metadata": {},
   "source": [
    "<img src=\"./img/markov+chain+graph+all.png\"></img>"
   ]
  },
  {
   "cell_type": "code",
   "execution_count": 11,
   "metadata": {},
   "outputs": [],
   "source": [
    "matrix = np.matrix(np.array([0.5,0.1,0.1,0.05,0.2,   \n",
    " 0.2, 0.3, 0.2,0.15 , 0.1,\n",
    " 0.15,0.2 , 0.3, 0.3,0.1,\n",
    " 0.1 ,0.3 , 0.2 , 0.4 ,0.1,\n",
    " 0.05 , 0.1 , 0.2 , 0.1,0.5]).reshape(5,5))\n",
    "\n",
    "init_people_vector = np.array([[100,0,0,0,0]]).reshape(5,1)"
   ]
  },
  {
   "cell_type": "code",
   "execution_count": 23,
   "metadata": {},
   "outputs": [
    {
     "name": "stdout",
     "output_type": "stream",
     "text": [
      "Stationary distribution\n",
      "[[ 17.90005801]\n",
      " [ 18.86964448]\n",
      " [ 21.67067208]\n",
      " [ 22.77285158]\n",
      " [ 18.78677385]]\n"
     ]
    }
   ],
   "source": [
    "after_next_step_people = init_people_vector\n",
    "while True: \n",
    "    after_step_people = np.copy(after_next_step_people)\n",
    "    after_next_step_people = np.matmul(matrix, after_step_people)\n",
    "    if all(after_step_people == after_next_step_people):\n",
    "        break\n",
    "print (\"Stationary distribution\")\n",
    "print (after_step_people)"
   ]
  },
  {
   "cell_type": "code",
   "execution_count": 26,
   "metadata": {},
   "outputs": [],
   "source": [
    "first_eigenvector = np.linalg.eig(matrix)[1][:,0]"
   ]
  },
  {
   "cell_type": "markdown",
   "metadata": {},
   "source": [
    "Normalize eigenvector is the same as stationary distribution"
   ]
  },
  {
   "cell_type": "code",
   "execution_count": 30,
   "metadata": {},
   "outputs": [
    {
     "data": {
      "text/plain": [
       "matrix([[ 0.17900058+0.j],\n",
       "        [ 0.18869644+0.j],\n",
       "        [ 0.21670672+0.j],\n",
       "        [ 0.22772852+0.j],\n",
       "        [ 0.18786774+0.j]])"
      ]
     },
     "execution_count": 30,
     "metadata": {},
     "output_type": "execute_result"
    }
   ],
   "source": [
    "first_eigenvector / sum(first_eigenvector)"
   ]
  },
  {
   "cell_type": "code",
   "execution_count": null,
   "metadata": {},
   "outputs": [],
   "source": []
  }
 ],
 "metadata": {
  "kernelspec": {
   "display_name": "Python 3",
   "language": "python",
   "name": "python3"
  },
  "language_info": {
   "codemirror_mode": {
    "name": "ipython",
    "version": 3
   },
   "file_extension": ".py",
   "mimetype": "text/x-python",
   "name": "python",
   "nbconvert_exporter": "python",
   "pygments_lexer": "ipython3",
   "version": "3.6.1"
  }
 },
 "nbformat": 4,
 "nbformat_minor": 2
}
