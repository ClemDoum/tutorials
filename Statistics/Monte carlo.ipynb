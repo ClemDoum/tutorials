{
 "cells": [
  {
   "cell_type": "markdown",
   "metadata": {},
   "source": [
    "# Monte Carlo method for problems"
   ]
  },
  {
   "cell_type": "code",
   "execution_count": 1,
   "metadata": {},
   "outputs": [],
   "source": [
    "import numpy as np"
   ]
  },
  {
   "cell_type": "markdown",
   "metadata": {},
   "source": [
    "### Suppose we have an instance of a Normal distribution with a mean of 1 and a standard deviation of 10. And we want to calculate integral from 3 to 6"
   ]
  },
  {
   "cell_type": "code",
   "execution_count": 7,
   "metadata": {},
   "outputs": [
    {
     "name": "stdout",
     "output_type": "stream",
     "text": [
      "0.11276\n",
      "real value is: 0.112203\n"
     ]
    }
   ],
   "source": [
    "runs = 100000\n",
    "mu, sigma = 1, 10 # mean and standard deviation\n",
    "valid_pull = 0\n",
    "\n",
    "for _ in range(runs):\n",
    "    valid_pull += 1 if 3 <= np.random.normal(mu, sigma, 1) <= 6 else 0\n",
    "\n",
    "print (valid_pull/runs)\n",
    "print (\"real value is: %f\" % 0.112203 )"
   ]
  },
  {
   "cell_type": "markdown",
   "metadata": {},
   "source": [
    "### We flip a coin 10 times and we want to know the probability of getting more than 3 heads."
   ]
  },
  {
   "cell_type": "code",
   "execution_count": 26,
   "metadata": {},
   "outputs": [
    {
     "data": {
      "text/plain": [
       "0.82959000000000005"
      ]
     },
     "execution_count": 26,
     "metadata": {},
     "output_type": "execute_result"
    }
   ],
   "source": [
    "n, p = 10, 0.5  # number of trials, probability of each trial\n",
    "\n",
    "sum(np.random.binomial(10, 0.5, runs) > 3)/runs"
   ]
  },
  {
   "cell_type": "code",
   "execution_count": 27,
   "metadata": {},
   "outputs": [
    {
     "name": "stdout",
     "output_type": "stream",
     "text": [
      "0.82711\n",
      "0.82792\n"
     ]
    }
   ],
   "source": [
    "valid_pull = 0\n",
    "runs = 100000\n",
    "\n",
    "for _ in range(runs):\n",
    "    valid_pull += 1 if sum([np.random.randint(0, 2) for _ in range(10)]) > 3 else 0\n",
    "\n",
    "print (valid_pull/runs)\n",
    "print (sum(np.random.binomial(10, 0.5, runs) > 3)/runs)"
   ]
  },
  {
   "cell_type": "markdown",
   "metadata": {},
   "source": [
    "### Approximating Pi"
   ]
  },
  {
   "cell_type": "markdown",
   "metadata": {},
   "source": [
    "Because if we draw a circle inside a squere we get the ration of area like this : PI \\* r^2 / 4 \\* r^2 so ration is PI/4"
   ]
  },
  {
   "cell_type": "code",
   "execution_count": 33,
   "metadata": {},
   "outputs": [
    {
     "data": {
      "text/plain": [
       "0.9858262575263753"
      ]
     },
     "execution_count": 33,
     "metadata": {},
     "output_type": "execute_result"
    }
   ],
   "source": [
    "np.random.rand()"
   ]
  },
  {
   "cell_type": "code",
   "execution_count": 36,
   "metadata": {},
   "outputs": [
    {
     "name": "stdout",
     "output_type": "stream",
     "text": [
      "3.1412133333333334\n"
     ]
    }
   ],
   "source": [
    "valid_pull = 0\n",
    "runs = 300000\n",
    "r = 0.5 # diameter\n",
    "\n",
    "for _ in range(runs):\n",
    "    x = np.random.rand() - 0.5 # from -0.5 to 0.5\n",
    "    y = np.random.rand() - 0.5\n",
    "    \n",
    "    valid_pull += 1 if (x*x + y*y <= r*r) else 0\n",
    "\n",
    "print (4 * valid_pull/runs)"
   ]
  },
  {
   "cell_type": "markdown",
   "metadata": {},
   "source": [
    "### P-test"
   ]
  },
  {
   "cell_type": "markdown",
   "metadata": {},
   "source": [
    "For page A we have seen 20 convert and 100 not convert, for page B we have 38 converting and 110 not converting. We'll model this as two Beta distributions"
   ]
  },
  {
   "cell_type": "markdown",
   "metadata": {},
   "source": [
    "If the P-value is less than (or equal to) α, then the null hypothesis is rejected in favor of the alternative hypothesis. And, if the P-value is greater than α, then the null hypothesis is not rejected.\n",
    "\n",
    "The P-value, 0.0127, tells us it is \"unlikely\" that we would observe such an extreme test statistic t* in the direction of HA if the null hypothesis were true. Therefore, our initial assumption that the null hypothesis is true must be incorrect. That is, since the P-value, 0.0127, is less than α = 0.05, we reject the null hypothesis H0 : μ = 3 in favor of the alternative hypothesis HA : μ < 3.\n",
    "\n",
    "Statistically significant means the relationship in the results did not occur by random chance. \n",
    "\n",
    "Null hypothesis: A is better than B (A > B)\n",
    "Alternative hypothesis: B > A"
   ]
  },
  {
   "cell_type": "code",
   "execution_count": 44,
   "metadata": {},
   "outputs": [
    {
     "name": "stdout",
     "output_type": "stream",
     "text": [
      "0.035250000000000004\n"
     ]
    }
   ],
   "source": [
    "valid_pull = 0\n",
    "runs = 100000\n",
    "\n",
    "for _ in range(runs):\n",
    "    a = np.random.beta(20,100)\n",
    "    b = np.random.beta(38,110)\n",
    "    \n",
    "    valid_pull += 1 if b > a else 0\n",
    "\n",
    "print (1 - valid_pull/runs)"
   ]
  },
  {
   "cell_type": "code",
   "execution_count": null,
   "metadata": {},
   "outputs": [],
   "source": []
  }
 ],
 "metadata": {
  "kernelspec": {
   "display_name": "Python 3",
   "language": "python",
   "name": "python3"
  },
  "language_info": {
   "codemirror_mode": {
    "name": "ipython",
    "version": 3
   },
   "file_extension": ".py",
   "mimetype": "text/x-python",
   "name": "python",
   "nbconvert_exporter": "python",
   "pygments_lexer": "ipython3",
   "version": "3.6.1"
  }
 },
 "nbformat": 4,
 "nbformat_minor": 2
}
