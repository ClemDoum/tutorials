{
 "cells": [
  {
   "cell_type": "code",
   "execution_count": 1,
   "metadata": {},
   "outputs": [],
   "source": [
    "from enum import Enum\n",
    "import pexpect\n",
    "import re\n",
    "\n",
    "class Mode(Enum):\n",
    "    PREDICT = 1\n",
    "    EMBEDDING = 2\n",
    "    SIMILAR_N = 3\n",
    "\n",
    "class StarSpaceInterface(object): \n",
    "    \n",
    "    def __init__(self, mode, **kwarg):\n",
    "        self.mode = mode\n",
    "        if self.mode == Mode.PREDICT:\n",
    "            cmd = '{} {} {} {}'.format(kwarg[\"starspace_path\"] + \"query_predict\", kwarg[\"model_path\"], kwarg[\"k\"] if \"k\" in kwarg else 1, kwarg[\"baseDocs\"] if \"baseDocs\" in kwarg else \"\")\n",
    "            self.child = pexpect.spawn(cmd)\n",
    "            self.child.expect('Enter some text: ')\n",
    "        elif self.mode == Mode.EMBEDDING:\n",
    "            cmd = '{} {}'.format(kwarg[\"starspace_path\"] + 'embed_doc', kwarg[\"model_path\"])\n",
    "            self.child = pexpect.spawn(cmd)\n",
    "            self.child.expect('Input your sentence / document now:')\n",
    "        elif self.mode == Mode.SIMILAR_N:\n",
    "            cmd = '{} {} {}'.format(kwarg[\"starspace_path\"] + 'query_nn', kwarg[\"model_path\"], kwarg[\"k\"] if \"k\" in kwarg else 5)\n",
    "            self.child = pexpect.spawn(cmd)\n",
    "            self.child.expect('Enter some text: ')\n",
    "            \n",
    "    def predict(self, text):\n",
    "        if self.mode == Mode.PREDICT:\n",
    "            self.child.sendline(text)\n",
    "            self.child.expect('Enter some text: ')\n",
    "            stdout = self.child.before.decode('utf-8')\n",
    "            lines = stdout.split('\\n')\n",
    "            results = []\n",
    "            for line in lines:\n",
    "                search = re.search(r'(\\d)\\[(\\d+\\.\\d+)\\]:\\s(.*)\\s+', line)\n",
    "                if search:\n",
    "                    label = search.group(3).strip()\n",
    "                    proba = float(search.group(2).strip())\n",
    "                    results.append(dict(label=label, proba=proba))\n",
    "            return results\n",
    "        \n",
    "        elif self.mode == Mode.EMBEDDING:\n",
    "            self.child.sendline(text)\n",
    "            self.child.expect(text + r\"\\r\\n\")\n",
    "            self.child.expect(text + r\"\\r\\n\")\n",
    "            self.child.expect(r\" \\r\\n\")\n",
    "            return [dict(word=text.strip(), embedding=self.child.before.decode(\"utf-8\").split(\" \"))]\n",
    "        \n",
    "        elif self.mode == Mode.SIMILAR_N:\n",
    "            self.child.sendline(text)\n",
    "            self.child.expect('Enter some text: ')\n",
    "            lines = self.child.before.decode(\"utf-8\").split('\\n')\n",
    "            results = []\n",
    "            for line in lines[1:-1]:\n",
    "                line = line.split(\" \")\n",
    "                results.append(dict(word=line[0].strip(), proba=line[1].strip()))\n",
    "            return results\n"
   ]
  },
  {
   "cell_type": "code",
   "execution_count": 2,
   "metadata": {},
   "outputs": [],
   "source": [
    "interface = StarSpaceInterface(Mode.EMBEDDING, starspace_path=\"../Starspace/\", model_path=\"../data/models/catagoryEmbeddings.bin\" )"
   ]
  },
  {
   "cell_type": "code",
   "execution_count": 3,
   "metadata": {},
   "outputs": [
    {
     "data": {
      "text/plain": [
       "[{'word': 'lenovo',\n",
       "  'embedding': ['0.0205605',\n",
       "   '-0.0534521',\n",
       "   '-0.0610849',\n",
       "   '-0.0766744',\n",
       "   '0.0281063',\n",
       "   '-0.00221971',\n",
       "   '-0.143532',\n",
       "   '0.0161936',\n",
       "   '-0.0253927',\n",
       "   '-0.0735328',\n",
       "   '0.111146',\n",
       "   '0.145932',\n",
       "   '-0.0443884',\n",
       "   '-0.14476',\n",
       "   '0.11287',\n",
       "   '-0.16737',\n",
       "   '0.0106506',\n",
       "   '0.209247',\n",
       "   '0.0553636',\n",
       "   '-0.112312',\n",
       "   '0.0206334',\n",
       "   '-0.025157',\n",
       "   '-0.0298574',\n",
       "   '-0.104654',\n",
       "   '0.0270314',\n",
       "   '0.179489',\n",
       "   '-0.0248981',\n",
       "   '-0.0779187',\n",
       "   '-0.179245',\n",
       "   '0.0654831',\n",
       "   '0.0332258',\n",
       "   '0.0726604',\n",
       "   '0.000404798',\n",
       "   '0.111055',\n",
       "   '0.154709',\n",
       "   '-0.158142',\n",
       "   '0.179709',\n",
       "   '0.0237634',\n",
       "   '-0.0716949',\n",
       "   '0.000763156',\n",
       "   '0.0785529',\n",
       "   '0.041405',\n",
       "   '0.146781',\n",
       "   '-0.121662',\n",
       "   '-0.214631',\n",
       "   '0.0253664',\n",
       "   '0.196819',\n",
       "   '-0.0983251',\n",
       "   '-0.120748',\n",
       "   '0.0965847',\n",
       "   '0.174694',\n",
       "   '0.00515233',\n",
       "   '0.0216982',\n",
       "   '0.0723112',\n",
       "   '0.144232',\n",
       "   '0.0427683',\n",
       "   '-0.111836',\n",
       "   '-0.216062',\n",
       "   '0.0483602',\n",
       "   '0.0656993',\n",
       "   '-0.157042',\n",
       "   '-0.119124',\n",
       "   '0.0468623',\n",
       "   '-0.0611364',\n",
       "   '-0.0994147',\n",
       "   '0.0364243',\n",
       "   '-0.0851346',\n",
       "   '-0.0629141',\n",
       "   '-0.0177147',\n",
       "   '-0.158924',\n",
       "   '-0.175853',\n",
       "   '-0.0653445',\n",
       "   '-0.0234753',\n",
       "   '0.0176337',\n",
       "   '-0.0281616',\n",
       "   '-0.105814',\n",
       "   '0.0527998',\n",
       "   '-0.0592584',\n",
       "   '-0.00539872',\n",
       "   '0.115638',\n",
       "   '-0.188404',\n",
       "   '-0.0103577',\n",
       "   '0.177792',\n",
       "   '-0.0961358',\n",
       "   '-0.0609904',\n",
       "   '0.0233429',\n",
       "   '-0.0951595',\n",
       "   '-0.0434099',\n",
       "   '0.0353901',\n",
       "   '0.0194005',\n",
       "   '-0.0839267',\n",
       "   '0.0942973',\n",
       "   '0.0489567',\n",
       "   '-0.0163492',\n",
       "   '0.0206802',\n",
       "   '0.0970147',\n",
       "   '-0.160458',\n",
       "   '0.0598353',\n",
       "   '0.0838606',\n",
       "   '-0.0359321']}]"
      ]
     },
     "execution_count": 3,
     "metadata": {},
     "output_type": "execute_result"
    }
   ],
   "source": [
    "interface.predict(\"lenovo\")"
   ]
  },
  {
   "cell_type": "code",
   "execution_count": 4,
   "metadata": {},
   "outputs": [],
   "source": [
    "interface_pr = StarSpaceInterface(Mode.PREDICT, starspace_path=\"../Starspace/\", model_path=\"../data/models/catagoryEmbeddings.bin\" )"
   ]
  },
  {
   "cell_type": "code",
   "execution_count": 5,
   "metadata": {},
   "outputs": [
    {
     "data": {
      "text/plain": [
       "[{'label': '__label__Ostatní_příslušenství_pro_mobilní_telefony',\n",
       "  'proba': 0.610883}]"
      ]
     },
     "execution_count": 5,
     "metadata": {},
     "output_type": "execute_result"
    }
   ],
   "source": [
    "interface_pr.predict(\"lenovo\")"
   ]
  },
  {
   "cell_type": "code",
   "execution_count": 6,
   "metadata": {},
   "outputs": [],
   "source": [
    "interface_si = StarSpaceInterface(Mode.SIMILAR_N, starspace_path=\"../Starspace/\", model_path=\"../data/models/catagoryEmbeddings.bin\" )"
   ]
  },
  {
   "cell_type": "code",
   "execution_count": 7,
   "metadata": {},
   "outputs": [
    {
     "data": {
      "text/plain": [
       "[{'word': 'lenovo', 'proba': '1'},\n",
       " {'word': 'acer', 'proba': '0.761748'},\n",
       " {'word': 'Lenovo', 'proba': '0.713689'},\n",
       " {'word': '80V60009CK', 'proba': '0.692045'},\n",
       " {'word': 'Y6pro', 'proba': '0.685429'}]"
      ]
     },
     "execution_count": 7,
     "metadata": {},
     "output_type": "execute_result"
    }
   ],
   "source": [
    "interface_si.predict(\"lenovo\")"
   ]
  },
  {
   "cell_type": "code",
   "execution_count": null,
   "metadata": {},
   "outputs": [],
   "source": []
  }
 ],
 "metadata": {
  "kernelspec": {
   "display_name": "zbozi",
   "language": "python",
   "name": "zbozi"
  },
  "language_info": {
   "codemirror_mode": {
    "name": "ipython",
    "version": 3
   },
   "file_extension": ".py",
   "mimetype": "text/x-python",
   "name": "python",
   "nbconvert_exporter": "python",
   "pygments_lexer": "ipython3",
   "version": "3.6.4"
  }
 },
 "nbformat": 4,
 "nbformat_minor": 2
}
